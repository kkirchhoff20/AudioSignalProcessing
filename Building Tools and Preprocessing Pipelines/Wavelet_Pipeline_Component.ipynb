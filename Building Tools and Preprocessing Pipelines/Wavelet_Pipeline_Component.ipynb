{
 "cells": [
  {
   "cell_type": "code",
   "execution_count": 5,
   "id": "c18e10ba",
   "metadata": {},
   "outputs": [],
   "source": []
  },
  {
   "cell_type": "code",
   "execution_count": 12,
   "id": "904d83f0",
   "metadata": {},
   "outputs": [],
   "source": [
    "from sklearn.utils.validation import check_X_y, check_array, check_is_fitted\n",
    "import pywt # Python wavelet transform implementation\n",
    "from sklearn.base import BaseEstimator, TransformerMixin # Interfaces and base classes for pipeline components\n",
    "class WaveletTransformer(TransformerMixin, BaseEstimator):\n",
    "    \"\"\"Compute approximation coefficients of a selected wavelet.\n",
    "    \n",
    "    Parameters\n",
    "    ----------\n",
    "    wavelet_name : str, default='db1'\n",
    "        Wavelet to use in transformation.\n",
    "        Must be a wavelet name defiend in PyWavelets library\n",
    "        See http://wavelets.pybytes.com/\n",
    "    mode : str, default='symmetric'\n",
    "        Extrapolation mode for transform.\n",
    "        See https://pywavelets.readthedocs.io/en/latest/ref/signal-extension-modes.html#ref-modes\n",
    "    Attributes\n",
    "    ----------\n",
    "    n_features_ : int\n",
    "        The number of features of the data passed to :meth:`fit`.\n",
    "    wavelet_name : str, default='db1'\n",
    "        Wavelet to use in transformation.\n",
    "        See http://wavelets.pybytes.com/\n",
    "    mode : str, default='symmetric'\n",
    "        Extrapolation mode for transform.\n",
    "        See https://pywavelets.readthedocs.io/en/latest/ref/signal-extension-modes.html#ref-modes\n",
    "    \n",
    "    \"\"\"\n",
    "    def __init__(self,\n",
    "                 wavelet_name: str = 'db1',\n",
    "                 mode: str = 'symmetric'):\n",
    "        self.wavelet_name = wavelet_name\n",
    "        self.mode = mode\n",
    "\n",
    "    def fit(self, X, y=None):\n",
    "        \"\"\"A reference implementation of a fitting function for a transformer.\n",
    "        Parameters\n",
    "        ----------\n",
    "        X : {array-like, sparse matrix}, shape (n_samples, n_features)\n",
    "            The training input samples.\n",
    "        y : None\n",
    "            There is no need of a target in a transformer, yet the pipeline API\n",
    "            requires this parameter.\n",
    "        Returns\n",
    "        -------\n",
    "        self : object\n",
    "            Returns self.\n",
    "        \"\"\"\n",
    "        X = check_array(X, accept_sparse=True)\n",
    "\n",
    "        # Each row of X must have the same length\n",
    "        # In other words, signals need to be truncated or padded to a fixed length\n",
    "        # prior to passing to this transformer.\n",
    "        self.n_features_ = X.shape[1]\n",
    "\n",
    "        # Other checks go here\n",
    "        \n",
    "        # Return the transformer\n",
    "        return self\n",
    "\n",
    "    def transform(self, X):\n",
    "        \"\"\" Compute wavelet transform on input data X\n",
    "        \n",
    "        Parameters\n",
    "        ----------\n",
    "        X : {array-like, sparse-matrix}, shape (n_samples, n_features)\n",
    "            The input samples.\n",
    "        Returns\n",
    "        -------\n",
    "        X_transformed : array, shape (n_samples, n_features)\n",
    "            The array containing the wavelet transform approximation coefficients from each row of X\n",
    "            in ``X``.\n",
    "        \"\"\"\n",
    "        # Check is fit had been called\n",
    "        check_is_fitted(self, 'n_features_')\n",
    "\n",
    "        # Input validation\n",
    "        X = check_array(X, accept_sparse=True)\n",
    "\n",
    "        # Check that the input is of the same shape as the one passed\n",
    "        # during fit.\n",
    "        if X.shape[1] != self.n_features_:\n",
    "            raise ValueError('Shape of input is different from what was seen'\n",
    "                             'in `fit`')\n",
    "            \n",
    "        (cA, cD) = pywt.dwt(X, self.wavelet_name, self.mode)\n",
    "        return cA"
   ]
  },
  {
   "cell_type": "code",
   "execution_count": 18,
   "id": "d5f78b95",
   "metadata": {},
   "outputs": [],
   "source": [
    "from random import randrange\n",
    "import numpy as np\n",
    "def make_random_signal(length=1000):\n",
    "    \"\"\"\n",
    "    Make a wave and add random noise\n",
    "    The signal is composed of x/100 and x/20. The amplitude and horizontal shift is randomly chosen\n",
    "    \"\"\"\n",
    "    shift = randrange(101) # Random int between 0 and 100\n",
    "    amplitude_f1 = randrange(0,1001) # Amplitude of frequency 1\n",
    "    amplitude_f2 = randrange(0,1001) # Amplitude of frequency 2\n",
    "    raw_signal = np.array([amplitude_f1*np.sin((x+shift)/100) + amplitude_f2*np.cos((x+shift)/20) for x in range(0,length)])\n",
    "    noisy_signal = raw_signal + np.random.normal(0, 25, 1000)\n",
    "    return noisy_signal\n",
    "\n",
    "# Generate 10 noisy signals\n",
    "signals = [make_random_signal() for i in range(0,10)]\n"
   ]
  },
  {
   "cell_type": "code",
   "execution_count": 14,
   "id": "267c9eab",
   "metadata": {},
   "outputs": [],
   "source": [
    "from sklearn.pipeline import Pipeline\n",
    "from sklearn.preprocessing import MinMaxScaler\n",
    "pipe = Pipeline([('scaler', MinMaxScaler()), ('wavelet', WaveletTransformer())]) "
   ]
  },
  {
   "cell_type": "code",
   "execution_count": 15,
   "id": "0981f860",
   "metadata": {},
   "outputs": [],
   "source": [
    "result = pipe.fit_transform(signals)"
   ]
  },
  {
   "cell_type": "code",
   "execution_count": 16,
   "id": "3a428f28",
   "metadata": {},
   "outputs": [
    {
     "data": {
      "text/plain": [
       "(10, 500)"
      ]
     },
     "execution_count": 16,
     "metadata": {},
     "output_type": "execute_result"
    }
   ],
   "source": [
    "result.shape"
   ]
  }
 ],
 "metadata": {
  "kernelspec": {
   "display_name": "Python 3 (ipykernel)",
   "language": "python",
   "name": "python3"
  },
  "language_info": {
   "codemirror_mode": {
    "name": "ipython",
    "version": 3
   },
   "file_extension": ".py",
   "mimetype": "text/x-python",
   "name": "python",
   "nbconvert_exporter": "python",
   "pygments_lexer": "ipython3",
   "version": "3.9.12"
  }
 },
 "nbformat": 4,
 "nbformat_minor": 5
}
