{
 "cells": [
  {
   "cell_type": "code",
   "execution_count": 1,
   "id": "94f6f13d",
   "metadata": {},
   "outputs": [],
   "source": [
    "import numpy as np\n",
    "import matplotlib.pyplot as plt\n",
    "from scipy import signal\n",
    "from scipy.io import wavfile\n",
    "import sunau\n",
    "from scipy import signal\n",
    "from scipy.io import wavfile\n",
    "import pandas as pd\n",
    "import pywt\n",
    "import librosa\n",
    "import python_speech_features\n",
    "from sklearn.utils.validation import check_X_y, check_array, check_is_fitted\n",
    "import pywt # Python wavelet transform implementation\n",
    "from sklearn.base import BaseEstimator, TransformerMixin # Interfaces and base classes for pipeline components\n",
    "from sklearn.pipeline import Pipeline\n",
    "from sklearn.preprocessing import MinMaxScaler\n",
    "from scipy.fft import fft, ifft"
   ]
  },
  {
   "cell_type": "code",
   "execution_count": 2,
   "id": "436b64fe",
   "metadata": {},
   "outputs": [],
   "source": [
    "class Normalizer(TransformerMixin, BaseEstimator):\n",
    "    \"\"\"\n",
    "    Normalizes sample data to the interval (-1, 1)\n",
    "    \n",
    "    Parameters\n",
    "    ----------\n",
    "    \n",
    "    \"\"\"\n",
    "    def __init__(self, nbits: int, signed: bool):\n",
    "        self.signed = signed\n",
    "        self.nbits = nbits\n",
    "        if self.signed:\n",
    "            self.nbits = self.nbits-1\n",
    "    \n",
    "    def transform(self, samples: np.array) -> np.array:\n",
    "        normalized_samples = samples/(2**self.nbits) \n",
    "        normalized_samples = np.clip(normalized_samples, -1, 1)\n",
    "        return normalized_samples\n",
    "    \n",
    "    def fit(self, X, y):\n",
    "        return self"
   ]
  },
  {
   "cell_type": "code",
   "execution_count": 3,
   "id": "7d4b4ea8",
   "metadata": {},
   "outputs": [],
   "source": [
    "class NormFFT(TransformerMixin, BaseEstimator):\n",
    "    \n",
    "    def __init__(self, n: int = 5000):\n",
    "        self.n=n\n",
    "        \n",
    "    def transform(self, normalized_samples: np.array) -> (np.array, np.array, np.array):\n",
    "        transformed_samples = fft(normalized_samples, n=self.n) # calculate fourier transform (complex numbers list)\n",
    "        #length = len(transformed_samples)/2  # you only need half of the fft list (real signal symmetry)\n",
    "        #halved_transform = transformed_samples[:, 0:int(length-1)]\n",
    "        #return np.abs(halved_transform), np.real(halved_transform), np.imag(halved_transform)\n",
    "        return np.abs(transformed_samples)\n",
    "    \n",
    "    def fit(self, X, y):\n",
    "        return self"
   ]
  },
  {
   "cell_type": "code",
   "execution_count": 4,
   "id": "d99e8e70",
   "metadata": {},
   "outputs": [],
   "source": [
    "class WaveletTransformer(TransformerMixin, BaseEstimator):\n",
    "    \"\"\"Compute approximation coefficients of a selected wavelet.\n",
    "    \n",
    "    Parameters\n",
    "    ----------\n",
    "    wavelet_name : str, default='db1'\n",
    "        Wavelet to use in transformation.\n",
    "        Must be a wavelet name defiend in PyWavelets library\n",
    "        See http://wavelets.pybytes.com/\n",
    "    mode : str, default='symmetric'\n",
    "        Extrapolation mode for transform.\n",
    "        See https://pywavelets.readthedocs.io/en/latest/ref/signal-extension-modes.html#ref-modes\n",
    "    Attributes\n",
    "    ----------\n",
    "    n_features_ : int\n",
    "        The number of features of the data passed to :meth:`fit`.\n",
    "    wavelet_name : str, default='db1'\n",
    "        Wavelet to use in transformation.\n",
    "        See http://wavelets.pybytes.com/\n",
    "    mode : str, default='symmetric'\n",
    "        Extrapolation mode for transform.\n",
    "        See https://pywavelets.readthedocs.io/en/latest/ref/signal-extension-modes.html#ref-modes\n",
    "    \n",
    "    \"\"\"\n",
    "    def __init__(self,\n",
    "                 wavelet_name: str = 'db1',\n",
    "                 mode: str = 'symmetric'):\n",
    "        self.wavelet_name = wavelet_name\n",
    "        self.mode = mode\n",
    "\n",
    "    def fit(self, X, y=None):\n",
    "        \"\"\"A reference implementation of a fitting function for a transformer.\n",
    "        Parameters\n",
    "        ----------\n",
    "        X : {array-like, sparse matrix}, shape (n_samples, n_features)\n",
    "            The training input samples.\n",
    "        y : None\n",
    "            There is no need of a target in a transformer, yet the pipeline API\n",
    "            requires this parameter.\n",
    "        Returns\n",
    "        -------\n",
    "        self : object\n",
    "            Returns self.\n",
    "        \"\"\"\n",
    "        X = check_array(X, accept_sparse=True)\n",
    "\n",
    "        # Each row of X must have the same length\n",
    "        # In other words, signals need to be truncated or padded to a fixed length\n",
    "        # prior to passing to this transformer.\n",
    "        self.n_features_ = X.shape[1]\n",
    "\n",
    "        # Other checks go here\n",
    "        \n",
    "        # Return the transformer\n",
    "        return self\n",
    "\n",
    "    def transform(self, X):\n",
    "        \"\"\" Compute wavelet transform on input data X\n",
    "        \n",
    "        Parameters\n",
    "        ----------\n",
    "        X : {array-like, sparse-matrix}, shape (n_samples, n_features)\n",
    "            The input samples.\n",
    "        Returns\n",
    "        -------\n",
    "        X_transformed : array, shape (n_samples, n_features)\n",
    "            The array containing the wavelet transform approximation coefficients from each row of X\n",
    "            in ``X``.\n",
    "        \"\"\"\n",
    "        # Check is fit had been called\n",
    "        check_is_fitted(self, 'n_features_')\n",
    "\n",
    "        # Input validation\n",
    "        X = check_array(X, accept_sparse=True)\n",
    "\n",
    "        # Check that the input is of the same shape as the one passed\n",
    "        # during fit.\n",
    "        if X.shape[1] != self.n_features_:\n",
    "            raise ValueError('Shape of input is different from what was seen'\n",
    "                             'in `fit`')\n",
    "            \n",
    "        (cA, cD) = pywt.dwt(X, self.wavelet_name, self.mode)\n",
    "        return cA"
   ]
  },
  {
   "cell_type": "code",
   "execution_count": 5,
   "id": "1dc9494f",
   "metadata": {},
   "outputs": [],
   "source": [
    "def loadAudio(audioPath):\n",
    "    sample_rate, samples = wavfile.read(audioPath)\n",
    "    frequencies, times, spectrogram = signal.spectrogram(samples, sample_rate)\n",
    "    spectrogram = np.log(spectrogram)\n",
    "    transposed_spec = spectrogram.transpose()\n",
    "    freq_list = list(frequencies)\n",
    "    #freq_list = [str(f) for f in freq_list]\n",
    "    #freq_list = [f + \" Hz\" for f in freq_list]\n",
    "    audio_df = pd.DataFrame(transposed_spec, index = times, columns = freq_list )\n",
    "    audio_df.index = times\n",
    "    audio_df\n",
    "    return [audio_df, samples, sample_rate]"
   ]
  },
  {
   "cell_type": "code",
   "execution_count": 6,
   "id": "184f20ec",
   "metadata": {},
   "outputs": [],
   "source": [
    "from random import randrange\n",
    "import numpy as np\n",
    "def make_random_signal(freq1, freq2, length=1000, noise_level=25):\n",
    "    \"\"\"\n",
    "    Make a wave and add random noise\n",
    "    The signal is composed of x/100 and x/20. The amplitude and horizontal shift is randomly chosen\n",
    "    \"\"\"\n",
    "    shift = randrange(101) # Random int between 0 and 100\n",
    "    amplitude_f1 = randrange(0,1001) # Amplitude of frequency 1\n",
    "    amplitude_f2 = randrange(0,1001) # Amplitude of frequency 2\n",
    "    raw_signal = np.array([amplitude_f1*np.sin((x+shift)*freq1) + amplitude_f2*np.cos((x+shift)*freq2) for x in range(0,length)])\n",
    "    noisy_signal = raw_signal + np.random.normal(0, noise_level, length)\n",
    "    noisy_signal = noisy_signal.astype(np.int16)\n",
    "    return noisy_signal"
   ]
  },
  {
   "cell_type": "code",
   "execution_count": 7,
   "id": "fe5f5ebc",
   "metadata": {},
   "outputs": [
    {
     "name": "stdout",
     "output_type": "stream",
     "text": [
      "signal1: 29.2, 71.0\n",
      "signal2: 100, 100\n"
     ]
    }
   ],
   "source": [
    "freq1a= randrange(1, 1000)/10\n",
    "freq1b= randrange(1, 1000)/10\n",
    "freq2a= randrange(1, 1000)/10\n",
    "freq2b= randrange(1, 1000)/10\n",
    "\n",
    "signal1 = make_random_signal(freq1a, freq1b, 44100)\n",
    "signal2 = make_random_signal(freq2a, freq2b, 44100)\n",
    "print(\"signal1: \" + str(freq1a) + \", \" + str(freq1b))\n",
    "print(\"signal2: \" + str(100) + \", \" + str(100))"
   ]
  },
  {
   "cell_type": "code",
   "execution_count": 8,
   "id": "08796f5d",
   "metadata": {
    "scrolled": true
   },
   "outputs": [],
   "source": [
    "rand_freq1=randrange(1, 1000)/10\n",
    "rand_freq2=randrange(1, 1000)/10\n",
    "class1 = [make_random_signal(20, rand_freq1, 44100)  for i in range(1, 1001)]"
   ]
  },
  {
   "cell_type": "code",
   "execution_count": 9,
   "id": "1f29da52",
   "metadata": {},
   "outputs": [],
   "source": [
    "class2 = [make_random_signal(50, rand_freq2, 44100)  for i in range(1, 1001)]"
   ]
  },
  {
   "cell_type": "code",
   "execution_count": 10,
   "id": "8ad8c843",
   "metadata": {},
   "outputs": [
    {
     "data": {
      "text/plain": [
       "(44100,)"
      ]
     },
     "execution_count": 10,
     "metadata": {},
     "output_type": "execute_result"
    }
   ],
   "source": [
    "class2[0].shape"
   ]
  },
  {
   "cell_type": "code",
   "execution_count": 11,
   "id": "9e167e98",
   "metadata": {},
   "outputs": [
    {
     "data": {
      "text/plain": [
       "(2000,)"
      ]
     },
     "execution_count": 11,
     "metadata": {},
     "output_type": "execute_result"
    }
   ],
   "source": [
    "y_train = ([0]*1000) + ([1]*1000)\n",
    "y_train = np.array(y_train)\n",
    "y_train.shape"
   ]
  },
  {
   "cell_type": "code",
   "execution_count": 12,
   "id": "17050eea",
   "metadata": {},
   "outputs": [
    {
     "data": {
      "text/plain": [
       "(2000, 44100)"
      ]
     },
     "execution_count": 12,
     "metadata": {},
     "output_type": "execute_result"
    }
   ],
   "source": [
    "X_train = class1 + class2\n",
    "X_train = np.array(X_train)\n",
    "X_train.shape"
   ]
  },
  {
   "cell_type": "code",
   "execution_count": 13,
   "id": "40e62f08",
   "metadata": {},
   "outputs": [],
   "source": [
    "from scipy.io.wavfile import write\n",
    "write(\"signal1.wav\", 44100, signal1)\n",
    "write(\"signal2.wav\", 44100, signal2)"
   ]
  },
  {
   "cell_type": "code",
   "execution_count": 14,
   "id": "d0dfc63c",
   "metadata": {},
   "outputs": [],
   "source": [
    "from sklearn.svm import SVC\n",
    "pipe = Pipeline([('normalizer', Normalizer(16, True)), \n",
    "                 ('normfft', NormFFT(44100)),\n",
    "                 ('minmaxscaler', MinMaxScaler()),\n",
    "                 ('svc', SVC())\n",
    "                ])"
   ]
  },
  {
   "cell_type": "code",
   "execution_count": 15,
   "id": "4d6f0cc4",
   "metadata": {},
   "outputs": [
    {
     "data": {
      "text/plain": [
       "Pipeline(steps=[('normalizer', Normalizer(nbits=15, signed=True)),\n",
       "                ('normfft', NormFFT(n=44100)), ('minmaxscaler', MinMaxScaler()),\n",
       "                ('svc', SVC())])"
      ]
     },
     "execution_count": 15,
     "metadata": {},
     "output_type": "execute_result"
    }
   ],
   "source": [
    "pipe.fit(X_train, y_train)"
   ]
  },
  {
   "cell_type": "code",
   "execution_count": 16,
   "id": "21a26e2e",
   "metadata": {},
   "outputs": [],
   "source": [
    "test_class1 = [make_random_signal(20, rand_freq1, 44100)  for i in range(1, 101)]\n",
    "test_class2 = [make_random_signal(50, rand_freq2, 44100)  for i in range(1, 101)]\n",
    "X_test = test_class1 + test_class2\n",
    "X_test = np.array(X_test)\n",
    "y_test = ([0]*100) + ([1]*100)\n",
    "y_test = np.array(y_test)"
   ]
  },
  {
   "cell_type": "code",
   "execution_count": 17,
   "id": "5f77092a",
   "metadata": {},
   "outputs": [
    {
     "data": {
      "text/plain": [
       "array([0, 0, 0, 0, 0, 0, 0, 0, 0, 0, 0, 0, 0, 0, 0, 0, 0, 0, 0, 0, 0, 0,\n",
       "       0, 0, 0, 0, 0, 0, 0, 0, 0, 0, 0, 0, 0, 0, 0, 0, 0, 0, 0, 0, 0, 0,\n",
       "       0, 0, 0, 0, 0, 0, 0, 0, 0, 0, 0, 0, 0, 0, 0, 0, 0, 0, 0, 0, 0, 0,\n",
       "       0, 0, 0, 0, 0, 0, 0, 0, 0, 0, 0, 0, 0, 0, 0, 0, 0, 0, 0, 0, 0, 0,\n",
       "       0, 0, 0, 0, 0, 0, 0, 0, 0, 0, 0, 0, 1, 1, 1, 1, 1, 1, 1, 1, 1, 1,\n",
       "       1, 1, 1, 1, 1, 1, 1, 1, 1, 1, 1, 1, 1, 1, 1, 1, 1, 1, 1, 1, 1, 1,\n",
       "       1, 1, 1, 1, 1, 1, 1, 1, 1, 1, 1, 1, 1, 1, 1, 1, 1, 1, 1, 1, 1, 1,\n",
       "       1, 1, 1, 1, 1, 1, 1, 1, 1, 1, 1, 1, 1, 1, 1, 1, 1, 1, 1, 1, 1, 1,\n",
       "       1, 1, 1, 1, 1, 1, 1, 1, 1, 1, 1, 1, 1, 1, 1, 1, 1, 1, 1, 1, 1, 1,\n",
       "       1, 1])"
      ]
     },
     "execution_count": 17,
     "metadata": {},
     "output_type": "execute_result"
    }
   ],
   "source": [
    "y_pred = pipe.predict(X_test)\n",
    "y_pred"
   ]
  },
  {
   "cell_type": "code",
   "execution_count": 18,
   "id": "13bd19be",
   "metadata": {},
   "outputs": [
    {
     "data": {
      "text/plain": [
       "(200, 44100)"
      ]
     },
     "execution_count": 18,
     "metadata": {},
     "output_type": "execute_result"
    }
   ],
   "source": [
    "X_test.shape"
   ]
  },
  {
   "cell_type": "code",
   "execution_count": 19,
   "id": "788d7914",
   "metadata": {},
   "outputs": [
    {
     "data": {
      "text/plain": [
       "{'memory': None,\n",
       " 'steps': [('normalizer', Normalizer(nbits=15, signed=True)),\n",
       "  ('normfft', NormFFT(n=44100)),\n",
       "  ('minmaxscaler', MinMaxScaler()),\n",
       "  ('svc', SVC())],\n",
       " 'verbose': False,\n",
       " 'normalizer': Normalizer(nbits=15, signed=True),\n",
       " 'normfft': NormFFT(n=44100),\n",
       " 'minmaxscaler': MinMaxScaler(),\n",
       " 'svc': SVC(),\n",
       " 'normalizer__nbits': 15,\n",
       " 'normalizer__signed': True,\n",
       " 'normfft__n': 44100,\n",
       " 'minmaxscaler__clip': False,\n",
       " 'minmaxscaler__copy': True,\n",
       " 'minmaxscaler__feature_range': (0, 1),\n",
       " 'svc__C': 1.0,\n",
       " 'svc__break_ties': False,\n",
       " 'svc__cache_size': 200,\n",
       " 'svc__class_weight': None,\n",
       " 'svc__coef0': 0.0,\n",
       " 'svc__decision_function_shape': 'ovr',\n",
       " 'svc__degree': 3,\n",
       " 'svc__gamma': 'scale',\n",
       " 'svc__kernel': 'rbf',\n",
       " 'svc__max_iter': -1,\n",
       " 'svc__probability': False,\n",
       " 'svc__random_state': None,\n",
       " 'svc__shrinking': True,\n",
       " 'svc__tol': 0.001,\n",
       " 'svc__verbose': False}"
      ]
     },
     "execution_count": 19,
     "metadata": {},
     "output_type": "execute_result"
    }
   ],
   "source": [
    "pipe.get_params()"
   ]
  },
  {
   "cell_type": "code",
   "execution_count": 20,
   "id": "cc0d7932",
   "metadata": {},
   "outputs": [
    {
     "data": {
      "text/plain": [
       "[1, 5, 9, 13, 0, 1]"
      ]
     },
     "execution_count": 20,
     "metadata": {},
     "output_type": "execute_result"
    }
   ],
   "source": [
    "#this cell and next are troubleshooting syntax and refreshers\n",
    "a = np.array([1, 2, 3, 4])\n",
    "b = np.array([5, 6, 7, 8])\n",
    "c = np.array([9, 10, 11, 12])\n",
    "d = np.array([13, 14, 15, 16])\n",
    "e = np.array([0]*4)\n",
    "f = np.array([1]*4)\n",
    "g = [a, b, c, d, e, f]\n",
    "test = [g[i][0] for i in range(0, len(g))]\n",
    "test"
   ]
  },
  {
   "cell_type": "code",
   "execution_count": 21,
   "id": "f8977ec8",
   "metadata": {},
   "outputs": [
    {
     "data": {
      "text/plain": [
       "10"
      ]
     },
     "execution_count": 21,
     "metadata": {},
     "output_type": "execute_result"
    }
   ],
   "source": [
    "#i think this syntax was messing us up\n",
    "#using g[x][y] returns the y-th element from the x-th array of g (normal/expected behavior)\n",
    "#using g[\"some-slice\"][y] operates on the slice?\n",
    "length = len(g)/2  # you only need half of the fft list (real signal symmetry)\n",
    "g[2][1]"
   ]
  },
  {
   "cell_type": "code",
   "execution_count": 22,
   "id": "5ba016d2",
   "metadata": {},
   "outputs": [],
   "source": [
    "desk_path_list = ['C:\\\\Users\\\\kbk17\\\\EspionageDomainExploration\\\\desk_tap1.wav',\n",
    "                     'C:\\\\Users\\\\kbk17\\\\EspionageDomainExploration\\\\desk_tap2.wav',\n",
    "                     'C:\\\\Users\\\\kbk17\\\\EspionageDomainExploration\\\\desk_tap3.wav',\n",
    "                     'C:\\\\Users\\\\kbk17\\\\EspionageDomainExploration\\\\desk_tap4.wav']\n",
    "key_path_list = ['C:\\\\Users\\\\kbk17\\\\EspionageDomainExploration\\\\key_press1.wav',\n",
    "                 'C:\\\\Users\\\\kbk17\\\\EspionageDomainExploration\\\\key_press2.wav',\n",
    "                 'C:\\\\Users\\\\kbk17\\\\EspionageDomainExploration\\\\key_press3.wav',\n",
    "                 'C:\\\\Users\\\\kbk17\\\\EspionageDomainExploration\\\\key_press4.wav']"
   ]
  },
  {
   "cell_type": "code",
   "execution_count": 23,
   "id": "9665f818",
   "metadata": {},
   "outputs": [],
   "source": [
    "desk_read_output = [loadAudio(x) for x in desk_path_list]\n",
    "key_read_output = [loadAudio(x) for x in key_path_list]"
   ]
  },
  {
   "cell_type": "code",
   "execution_count": 24,
   "id": "ff4a0fe3",
   "metadata": {},
   "outputs": [
    {
     "data": {
      "text/plain": [
       "[array([  -17,  -102,   -80, ..., -2649, -2548, -2529], dtype=int16),\n",
       " array([  359,   348,   358, ..., -1108, -1044, -1052], dtype=int16),\n",
       " array([  698,   713,   750, ..., -2063, -2160, -2139], dtype=int16),\n",
       " array([  113,   179,    99, ..., -1689, -1665, -1721], dtype=int16)]"
      ]
     },
     "execution_count": 24,
     "metadata": {},
     "output_type": "execute_result"
    }
   ],
   "source": [
    "desk_samples = [desk_read_output[i][1] for i in range(0,len(desk_read_output))]\n",
    "desk_samples"
   ]
  },
  {
   "cell_type": "code",
   "execution_count": 25,
   "id": "94847f47",
   "metadata": {},
   "outputs": [
    {
     "data": {
      "text/plain": [
       "[array([-1684, -1785, -1415, ...,  1145,  1071,   310], dtype=int16),\n",
       " array([-5741, -5481, -5774, ..., -3737, -3746, -3949], dtype=int16),\n",
       " array([   163,    510,    226, ..., -10299, -10038,  -9722], dtype=int16),\n",
       " array([ -772,  -757, -1090, ...,    65,   338,   150], dtype=int16)]"
      ]
     },
     "execution_count": 25,
     "metadata": {},
     "output_type": "execute_result"
    }
   ],
   "source": [
    "key_samples = [key_read_output[i][1] for i in range(0,len(key_read_output))]\n",
    "key_samples"
   ]
  },
  {
   "cell_type": "code",
   "execution_count": 26,
   "id": "5aeff64a",
   "metadata": {},
   "outputs": [
    {
     "data": {
      "text/plain": [
       "13435"
      ]
     },
     "execution_count": 26,
     "metadata": {},
     "output_type": "execute_result"
    }
   ],
   "source": [
    "samples = key_samples + desk_samples\n",
    "max_length = 0\n",
    "for s in samples:\n",
    "    if len(s) > max_length:\n",
    "        max_length = len(s)\n",
    "max_length"
   ]
  },
  {
   "cell_type": "code",
   "execution_count": 27,
   "id": "5ddd7e98",
   "metadata": {},
   "outputs": [
    {
     "data": {
      "text/plain": [
       "[[0, 1], [2, 3, 4, 5], [6, 7, 8, 9, 10]]"
      ]
     },
     "execution_count": 27,
     "metadata": {},
     "output_type": "execute_result"
    }
   ],
   "source": [
    "#testing; remember np.pad() doesn't mutate input array but rather returns a new array\n",
    "padded_b = []\n",
    "b = [[0,1], [2,3,4,5], [6,7,8,9,10]]\n",
    "for s in b:\n",
    "    np.pad(s, (0, 5-len(s)), 'constant', constant_values=-2**15)\n",
    "    padded_b.append(s)\n",
    "padded_b"
   ]
  },
  {
   "cell_type": "code",
   "execution_count": 28,
   "id": "8491b631",
   "metadata": {},
   "outputs": [
    {
     "data": {
      "text/plain": [
       "[array([-1684, -1785, -1415, ...,  1145,  1071,   310], dtype=int16),\n",
       " array([ -5741,  -5481,  -5774, ..., -32768, -32768, -32768], dtype=int16),\n",
       " array([   163,    510,    226, ..., -32768, -32768, -32768], dtype=int16),\n",
       " array([  -772,   -757,  -1090, ..., -32768, -32768, -32768], dtype=int16),\n",
       " array([   -17,   -102,    -80, ..., -32768, -32768, -32768], dtype=int16),\n",
       " array([   359,    348,    358, ..., -32768, -32768, -32768], dtype=int16),\n",
       " array([   698,    713,    750, ..., -32768, -32768, -32768], dtype=int16),\n",
       " array([   113,    179,     99, ..., -32768, -32768, -32768], dtype=int16)]"
      ]
     },
     "execution_count": 28,
     "metadata": {},
     "output_type": "execute_result"
    }
   ],
   "source": [
    "padded_samples = []\n",
    "for s in samples:\n",
    "    padded_s = np.pad(s, (0, max_length-len(s)), 'constant', constant_values=-2**15)\n",
    "    padded_samples.append(padded_s)\n",
    "padded_samples"
   ]
  },
  {
   "cell_type": "code",
   "execution_count": 29,
   "id": "9dda3932",
   "metadata": {},
   "outputs": [
    {
     "data": {
      "text/plain": [
       "13022"
      ]
     },
     "execution_count": 29,
     "metadata": {},
     "output_type": "execute_result"
    }
   ],
   "source": [
    "len(samples[1])"
   ]
  },
  {
   "cell_type": "code",
   "execution_count": 30,
   "id": "513eb458",
   "metadata": {},
   "outputs": [
    {
     "data": {
      "text/plain": [
       "8"
      ]
     },
     "execution_count": 30,
     "metadata": {},
     "output_type": "execute_result"
    }
   ],
   "source": [
    "len(padded_samples)"
   ]
  },
  {
   "cell_type": "code",
   "execution_count": 31,
   "id": "03412343",
   "metadata": {},
   "outputs": [
    {
     "data": {
      "text/plain": [
       "[array([-1684, -1785, -1415, ...,  1145,  1071,   310], dtype=int16),\n",
       " array([ -5741,  -5481,  -5774, ..., -32768, -32768, -32768], dtype=int16),\n",
       " array([   163,    510,    226, ..., -32768, -32768, -32768], dtype=int16),\n",
       " array([  -772,   -757,  -1090, ..., -32768, -32768, -32768], dtype=int16),\n",
       " array([   -17,   -102,    -80, ..., -32768, -32768, -32768], dtype=int16),\n",
       " array([   359,    348,    358, ..., -32768, -32768, -32768], dtype=int16),\n",
       " array([   698,    713,    750, ..., -32768, -32768, -32768], dtype=int16),\n",
       " array([   113,    179,     99, ..., -32768, -32768, -32768], dtype=int16)]"
      ]
     },
     "execution_count": 31,
     "metadata": {},
     "output_type": "execute_result"
    }
   ],
   "source": [
    "padded_samples"
   ]
  },
  {
   "cell_type": "code",
   "execution_count": 32,
   "id": "6512f4af",
   "metadata": {},
   "outputs": [
    {
     "data": {
      "text/plain": [
       "[array([-1684, -1785, -1415, ...,  1145,  1071,   310], dtype=int16),\n",
       " array([-5741, -5481, -5774, ..., -3737, -3746, -3949], dtype=int16),\n",
       " array([   163,    510,    226, ..., -10299, -10038,  -9722], dtype=int16),\n",
       " array([ -772,  -757, -1090, ...,    65,   338,   150], dtype=int16),\n",
       " array([  -17,  -102,   -80, ..., -2649, -2548, -2529], dtype=int16),\n",
       " array([  359,   348,   358, ..., -1108, -1044, -1052], dtype=int16),\n",
       " array([  698,   713,   750, ..., -2063, -2160, -2139], dtype=int16),\n",
       " array([  113,   179,    99, ..., -1689, -1665, -1721], dtype=int16)]"
      ]
     },
     "execution_count": 32,
     "metadata": {},
     "output_type": "execute_result"
    }
   ],
   "source": [
    "samples"
   ]
  },
  {
   "cell_type": "code",
   "execution_count": 51,
   "id": "4ac42118",
   "metadata": {},
   "outputs": [],
   "source": [
    "#added dtype=object to avoid jagged nparray error; this is accounted for in NormFFT.transform() (in fft( ..., n=self.n) to be exact)\n",
    "\n",
    "X_train = np.array(samples, dtype=object) "
   ]
  },
  {
   "cell_type": "code",
   "execution_count": 52,
   "id": "f2804ffb",
   "metadata": {},
   "outputs": [],
   "source": [
    "#let 0 represent key press, 1 desk tap\n",
    "y_train = [0, 0, 0, 0, 1, 1, 1, 1]"
   ]
  },
  {
   "cell_type": "code",
   "execution_count": 56,
   "id": "3addffa6",
   "metadata": {},
   "outputs": [
    {
     "ename": "ValueError",
     "evalue": "The truth value of an array with more than one element is ambiguous. Use a.any() or a.all()",
     "output_type": "error",
     "traceback": [
      "\u001b[1;31m---------------------------------------------------------------------------\u001b[0m",
      "\u001b[1;31mValueError\u001b[0m                                Traceback (most recent call last)",
      "Input \u001b[1;32mIn [56]\u001b[0m, in \u001b[0;36m<cell line: 1>\u001b[1;34m()\u001b[0m\n\u001b[1;32m----> 1\u001b[0m \u001b[43mpipe\u001b[49m\u001b[38;5;241;43m.\u001b[39;49m\u001b[43mfit\u001b[49m\u001b[43m(\u001b[49m\u001b[43mX_train\u001b[49m\u001b[43m,\u001b[49m\u001b[43m \u001b[49m\u001b[43my_train\u001b[49m\u001b[43m)\u001b[49m\n",
      "File \u001b[1;32m~\\anaconda3\\envs\\AudioSignalProcessing\\lib\\site-packages\\sklearn\\pipeline.py:390\u001b[0m, in \u001b[0;36mPipeline.fit\u001b[1;34m(self, X, y, **fit_params)\u001b[0m\n\u001b[0;32m    364\u001b[0m \u001b[38;5;124;03m\"\"\"Fit the model.\u001b[39;00m\n\u001b[0;32m    365\u001b[0m \n\u001b[0;32m    366\u001b[0m \u001b[38;5;124;03mFit all the transformers one after the other and transform the\u001b[39;00m\n\u001b[1;32m   (...)\u001b[0m\n\u001b[0;32m    387\u001b[0m \u001b[38;5;124;03m    Pipeline with fitted steps.\u001b[39;00m\n\u001b[0;32m    388\u001b[0m \u001b[38;5;124;03m\"\"\"\u001b[39;00m\n\u001b[0;32m    389\u001b[0m fit_params_steps \u001b[38;5;241m=\u001b[39m \u001b[38;5;28mself\u001b[39m\u001b[38;5;241m.\u001b[39m_check_fit_params(\u001b[38;5;241m*\u001b[39m\u001b[38;5;241m*\u001b[39mfit_params)\n\u001b[1;32m--> 390\u001b[0m Xt \u001b[38;5;241m=\u001b[39m \u001b[38;5;28mself\u001b[39m\u001b[38;5;241m.\u001b[39m_fit(X, y, \u001b[38;5;241m*\u001b[39m\u001b[38;5;241m*\u001b[39mfit_params_steps)\n\u001b[0;32m    391\u001b[0m \u001b[38;5;28;01mwith\u001b[39;00m _print_elapsed_time(\u001b[38;5;124m\"\u001b[39m\u001b[38;5;124mPipeline\u001b[39m\u001b[38;5;124m\"\u001b[39m, \u001b[38;5;28mself\u001b[39m\u001b[38;5;241m.\u001b[39m_log_message(\u001b[38;5;28mlen\u001b[39m(\u001b[38;5;28mself\u001b[39m\u001b[38;5;241m.\u001b[39msteps) \u001b[38;5;241m-\u001b[39m \u001b[38;5;241m1\u001b[39m)):\n\u001b[0;32m    392\u001b[0m     \u001b[38;5;28;01mif\u001b[39;00m \u001b[38;5;28mself\u001b[39m\u001b[38;5;241m.\u001b[39m_final_estimator \u001b[38;5;241m!=\u001b[39m \u001b[38;5;124m\"\u001b[39m\u001b[38;5;124mpassthrough\u001b[39m\u001b[38;5;124m\"\u001b[39m:\n",
      "File \u001b[1;32m~\\anaconda3\\envs\\AudioSignalProcessing\\lib\\site-packages\\sklearn\\pipeline.py:348\u001b[0m, in \u001b[0;36mPipeline._fit\u001b[1;34m(self, X, y, **fit_params_steps)\u001b[0m\n\u001b[0;32m    346\u001b[0m     cloned_transformer \u001b[38;5;241m=\u001b[39m clone(transformer)\n\u001b[0;32m    347\u001b[0m \u001b[38;5;66;03m# Fit or load from cache the current transformer\u001b[39;00m\n\u001b[1;32m--> 348\u001b[0m X, fitted_transformer \u001b[38;5;241m=\u001b[39m fit_transform_one_cached(\n\u001b[0;32m    349\u001b[0m     cloned_transformer,\n\u001b[0;32m    350\u001b[0m     X,\n\u001b[0;32m    351\u001b[0m     y,\n\u001b[0;32m    352\u001b[0m     \u001b[38;5;28;01mNone\u001b[39;00m,\n\u001b[0;32m    353\u001b[0m     message_clsname\u001b[38;5;241m=\u001b[39m\u001b[38;5;124m\"\u001b[39m\u001b[38;5;124mPipeline\u001b[39m\u001b[38;5;124m\"\u001b[39m,\n\u001b[0;32m    354\u001b[0m     message\u001b[38;5;241m=\u001b[39m\u001b[38;5;28mself\u001b[39m\u001b[38;5;241m.\u001b[39m_log_message(step_idx),\n\u001b[0;32m    355\u001b[0m     \u001b[38;5;241m*\u001b[39m\u001b[38;5;241m*\u001b[39mfit_params_steps[name],\n\u001b[0;32m    356\u001b[0m )\n\u001b[0;32m    357\u001b[0m \u001b[38;5;66;03m# Replace the transformer of the step with the fitted\u001b[39;00m\n\u001b[0;32m    358\u001b[0m \u001b[38;5;66;03m# transformer. This is necessary when loading the transformer\u001b[39;00m\n\u001b[0;32m    359\u001b[0m \u001b[38;5;66;03m# from the cache.\u001b[39;00m\n\u001b[0;32m    360\u001b[0m \u001b[38;5;28mself\u001b[39m\u001b[38;5;241m.\u001b[39msteps[step_idx] \u001b[38;5;241m=\u001b[39m (name, fitted_transformer)\n",
      "File \u001b[1;32m~\\anaconda3\\envs\\AudioSignalProcessing\\lib\\site-packages\\joblib\\memory.py:349\u001b[0m, in \u001b[0;36mNotMemorizedFunc.__call__\u001b[1;34m(self, *args, **kwargs)\u001b[0m\n\u001b[0;32m    348\u001b[0m \u001b[38;5;28;01mdef\u001b[39;00m \u001b[38;5;21m__call__\u001b[39m(\u001b[38;5;28mself\u001b[39m, \u001b[38;5;241m*\u001b[39margs, \u001b[38;5;241m*\u001b[39m\u001b[38;5;241m*\u001b[39mkwargs):\n\u001b[1;32m--> 349\u001b[0m     \u001b[38;5;28;01mreturn\u001b[39;00m \u001b[38;5;28mself\u001b[39m\u001b[38;5;241m.\u001b[39mfunc(\u001b[38;5;241m*\u001b[39margs, \u001b[38;5;241m*\u001b[39m\u001b[38;5;241m*\u001b[39mkwargs)\n",
      "File \u001b[1;32m~\\anaconda3\\envs\\AudioSignalProcessing\\lib\\site-packages\\sklearn\\pipeline.py:893\u001b[0m, in \u001b[0;36m_fit_transform_one\u001b[1;34m(transformer, X, y, weight, message_clsname, message, **fit_params)\u001b[0m\n\u001b[0;32m    891\u001b[0m \u001b[38;5;28;01mwith\u001b[39;00m _print_elapsed_time(message_clsname, message):\n\u001b[0;32m    892\u001b[0m     \u001b[38;5;28;01mif\u001b[39;00m \u001b[38;5;28mhasattr\u001b[39m(transformer, \u001b[38;5;124m\"\u001b[39m\u001b[38;5;124mfit_transform\u001b[39m\u001b[38;5;124m\"\u001b[39m):\n\u001b[1;32m--> 893\u001b[0m         res \u001b[38;5;241m=\u001b[39m transformer\u001b[38;5;241m.\u001b[39mfit_transform(X, y, \u001b[38;5;241m*\u001b[39m\u001b[38;5;241m*\u001b[39mfit_params)\n\u001b[0;32m    894\u001b[0m     \u001b[38;5;28;01melse\u001b[39;00m:\n\u001b[0;32m    895\u001b[0m         res \u001b[38;5;241m=\u001b[39m transformer\u001b[38;5;241m.\u001b[39mfit(X, y, \u001b[38;5;241m*\u001b[39m\u001b[38;5;241m*\u001b[39mfit_params)\u001b[38;5;241m.\u001b[39mtransform(X)\n",
      "File \u001b[1;32m~\\anaconda3\\envs\\AudioSignalProcessing\\lib\\site-packages\\sklearn\\base.py:855\u001b[0m, in \u001b[0;36mTransformerMixin.fit_transform\u001b[1;34m(self, X, y, **fit_params)\u001b[0m\n\u001b[0;32m    852\u001b[0m     \u001b[38;5;28;01mreturn\u001b[39;00m \u001b[38;5;28mself\u001b[39m\u001b[38;5;241m.\u001b[39mfit(X, \u001b[38;5;241m*\u001b[39m\u001b[38;5;241m*\u001b[39mfit_params)\u001b[38;5;241m.\u001b[39mtransform(X)\n\u001b[0;32m    853\u001b[0m \u001b[38;5;28;01melse\u001b[39;00m:\n\u001b[0;32m    854\u001b[0m     \u001b[38;5;66;03m# fit method of arity 2 (supervised transformation)\u001b[39;00m\n\u001b[1;32m--> 855\u001b[0m     \u001b[38;5;28;01mreturn\u001b[39;00m \u001b[38;5;28;43mself\u001b[39;49m\u001b[38;5;241;43m.\u001b[39;49m\u001b[43mfit\u001b[49m\u001b[43m(\u001b[49m\u001b[43mX\u001b[49m\u001b[43m,\u001b[49m\u001b[43m \u001b[49m\u001b[43my\u001b[49m\u001b[43m,\u001b[49m\u001b[43m \u001b[49m\u001b[38;5;241;43m*\u001b[39;49m\u001b[38;5;241;43m*\u001b[39;49m\u001b[43mfit_params\u001b[49m\u001b[43m)\u001b[49m\u001b[38;5;241;43m.\u001b[39;49m\u001b[43mtransform\u001b[49m\u001b[43m(\u001b[49m\u001b[43mX\u001b[49m\u001b[43m)\u001b[49m\n",
      "Input \u001b[1;32mIn [2]\u001b[0m, in \u001b[0;36mNormalizer.transform\u001b[1;34m(self, samples)\u001b[0m\n\u001b[0;32m     15\u001b[0m \u001b[38;5;28;01mdef\u001b[39;00m \u001b[38;5;21mtransform\u001b[39m(\u001b[38;5;28mself\u001b[39m, samples: np\u001b[38;5;241m.\u001b[39marray) \u001b[38;5;241m-\u001b[39m\u001b[38;5;241m>\u001b[39m np\u001b[38;5;241m.\u001b[39marray:\n\u001b[0;32m     16\u001b[0m     normalized_samples \u001b[38;5;241m=\u001b[39m samples\u001b[38;5;241m/\u001b[39m(\u001b[38;5;241m2\u001b[39m\u001b[38;5;241m*\u001b[39m\u001b[38;5;241m*\u001b[39m\u001b[38;5;28mself\u001b[39m\u001b[38;5;241m.\u001b[39mnbits) \n\u001b[1;32m---> 17\u001b[0m     normalized_samples \u001b[38;5;241m=\u001b[39m \u001b[43mnp\u001b[49m\u001b[38;5;241;43m.\u001b[39;49m\u001b[43mclip\u001b[49m\u001b[43m(\u001b[49m\u001b[43mnormalized_samples\u001b[49m\u001b[43m,\u001b[49m\u001b[43m \u001b[49m\u001b[38;5;241;43m-\u001b[39;49m\u001b[38;5;241;43m1\u001b[39;49m\u001b[43m,\u001b[49m\u001b[43m \u001b[49m\u001b[38;5;241;43m1\u001b[39;49m\u001b[43m)\u001b[49m\n\u001b[0;32m     18\u001b[0m     \u001b[38;5;28;01mreturn\u001b[39;00m normalized_samples\n",
      "File \u001b[1;32m<__array_function__ internals>:5\u001b[0m, in \u001b[0;36mclip\u001b[1;34m(*args, **kwargs)\u001b[0m\n",
      "File \u001b[1;32m~\\anaconda3\\envs\\AudioSignalProcessing\\lib\\site-packages\\numpy\\core\\fromnumeric.py:2115\u001b[0m, in \u001b[0;36mclip\u001b[1;34m(a, a_min, a_max, out, **kwargs)\u001b[0m\n\u001b[0;32m   2046\u001b[0m \u001b[38;5;129m@array_function_dispatch\u001b[39m(_clip_dispatcher)\n\u001b[0;32m   2047\u001b[0m \u001b[38;5;28;01mdef\u001b[39;00m \u001b[38;5;21mclip\u001b[39m(a, a_min, a_max, out\u001b[38;5;241m=\u001b[39m\u001b[38;5;28;01mNone\u001b[39;00m, \u001b[38;5;241m*\u001b[39m\u001b[38;5;241m*\u001b[39mkwargs):\n\u001b[0;32m   2048\u001b[0m     \u001b[38;5;124;03m\"\"\"\u001b[39;00m\n\u001b[0;32m   2049\u001b[0m \u001b[38;5;124;03m    Clip (limit) the values in an array.\u001b[39;00m\n\u001b[0;32m   2050\u001b[0m \n\u001b[1;32m   (...)\u001b[0m\n\u001b[0;32m   2113\u001b[0m \n\u001b[0;32m   2114\u001b[0m \u001b[38;5;124;03m    \"\"\"\u001b[39;00m\n\u001b[1;32m-> 2115\u001b[0m     \u001b[38;5;28;01mreturn\u001b[39;00m _wrapfunc(a, \u001b[38;5;124m'\u001b[39m\u001b[38;5;124mclip\u001b[39m\u001b[38;5;124m'\u001b[39m, a_min, a_max, out\u001b[38;5;241m=\u001b[39mout, \u001b[38;5;241m*\u001b[39m\u001b[38;5;241m*\u001b[39mkwargs)\n",
      "File \u001b[1;32m~\\anaconda3\\envs\\AudioSignalProcessing\\lib\\site-packages\\numpy\\core\\fromnumeric.py:57\u001b[0m, in \u001b[0;36m_wrapfunc\u001b[1;34m(obj, method, *args, **kwds)\u001b[0m\n\u001b[0;32m     54\u001b[0m     \u001b[38;5;28;01mreturn\u001b[39;00m _wrapit(obj, method, \u001b[38;5;241m*\u001b[39margs, \u001b[38;5;241m*\u001b[39m\u001b[38;5;241m*\u001b[39mkwds)\n\u001b[0;32m     56\u001b[0m \u001b[38;5;28;01mtry\u001b[39;00m:\n\u001b[1;32m---> 57\u001b[0m     \u001b[38;5;28;01mreturn\u001b[39;00m bound(\u001b[38;5;241m*\u001b[39margs, \u001b[38;5;241m*\u001b[39m\u001b[38;5;241m*\u001b[39mkwds)\n\u001b[0;32m     58\u001b[0m \u001b[38;5;28;01mexcept\u001b[39;00m \u001b[38;5;167;01mTypeError\u001b[39;00m:\n\u001b[0;32m     59\u001b[0m     \u001b[38;5;66;03m# A TypeError occurs if the object does have such a method in its\u001b[39;00m\n\u001b[0;32m     60\u001b[0m     \u001b[38;5;66;03m# class, but its signature is not identical to that of NumPy's. This\u001b[39;00m\n\u001b[1;32m   (...)\u001b[0m\n\u001b[0;32m     64\u001b[0m     \u001b[38;5;66;03m# Call _wrapit from within the except clause to ensure a potential\u001b[39;00m\n\u001b[0;32m     65\u001b[0m     \u001b[38;5;66;03m# exception has a traceback chain.\u001b[39;00m\n\u001b[0;32m     66\u001b[0m     \u001b[38;5;28;01mreturn\u001b[39;00m _wrapit(obj, method, \u001b[38;5;241m*\u001b[39margs, \u001b[38;5;241m*\u001b[39m\u001b[38;5;241m*\u001b[39mkwds)\n",
      "File \u001b[1;32m~\\anaconda3\\envs\\AudioSignalProcessing\\lib\\site-packages\\numpy\\core\\_methods.py:159\u001b[0m, in \u001b[0;36m_clip\u001b[1;34m(a, min, max, out, casting, **kwargs)\u001b[0m\n\u001b[0;32m    156\u001b[0m     \u001b[38;5;28;01mreturn\u001b[39;00m _clip_dep_invoke_with_casting(\n\u001b[0;32m    157\u001b[0m         um\u001b[38;5;241m.\u001b[39mmaximum, a, \u001b[38;5;28mmin\u001b[39m, out\u001b[38;5;241m=\u001b[39mout, casting\u001b[38;5;241m=\u001b[39mcasting, \u001b[38;5;241m*\u001b[39m\u001b[38;5;241m*\u001b[39mkwargs)\n\u001b[0;32m    158\u001b[0m \u001b[38;5;28;01melse\u001b[39;00m:\n\u001b[1;32m--> 159\u001b[0m     \u001b[38;5;28;01mreturn\u001b[39;00m _clip_dep_invoke_with_casting(\n\u001b[0;32m    160\u001b[0m         um\u001b[38;5;241m.\u001b[39mclip, a, \u001b[38;5;28mmin\u001b[39m, \u001b[38;5;28mmax\u001b[39m, out\u001b[38;5;241m=\u001b[39mout, casting\u001b[38;5;241m=\u001b[39mcasting, \u001b[38;5;241m*\u001b[39m\u001b[38;5;241m*\u001b[39mkwargs)\n",
      "File \u001b[1;32m~\\anaconda3\\envs\\AudioSignalProcessing\\lib\\site-packages\\numpy\\core\\_methods.py:113\u001b[0m, in \u001b[0;36m_clip_dep_invoke_with_casting\u001b[1;34m(ufunc, out, casting, *args, **kwargs)\u001b[0m\n\u001b[0;32m    111\u001b[0m \u001b[38;5;66;03m# try to deal with broken casting rules\u001b[39;00m\n\u001b[0;32m    112\u001b[0m \u001b[38;5;28;01mtry\u001b[39;00m:\n\u001b[1;32m--> 113\u001b[0m     \u001b[38;5;28;01mreturn\u001b[39;00m ufunc(\u001b[38;5;241m*\u001b[39margs, out\u001b[38;5;241m=\u001b[39mout, \u001b[38;5;241m*\u001b[39m\u001b[38;5;241m*\u001b[39mkwargs)\n\u001b[0;32m    114\u001b[0m \u001b[38;5;28;01mexcept\u001b[39;00m _exceptions\u001b[38;5;241m.\u001b[39m_UFuncOutputCastingError \u001b[38;5;28;01mas\u001b[39;00m e:\n\u001b[0;32m    115\u001b[0m     \u001b[38;5;66;03m# Numpy 1.17.0, 2019-02-24\u001b[39;00m\n\u001b[0;32m    116\u001b[0m     warnings\u001b[38;5;241m.\u001b[39mwarn(\n\u001b[0;32m    117\u001b[0m         \u001b[38;5;124m\"\u001b[39m\u001b[38;5;124mConverting the output of clip from \u001b[39m\u001b[38;5;132;01m{!r}\u001b[39;00m\u001b[38;5;124m to \u001b[39m\u001b[38;5;132;01m{!r}\u001b[39;00m\u001b[38;5;124m is deprecated. \u001b[39m\u001b[38;5;124m\"\u001b[39m\n\u001b[0;32m    118\u001b[0m         \u001b[38;5;124m\"\u001b[39m\u001b[38;5;124mPass `casting=\u001b[39m\u001b[38;5;130;01m\\\"\u001b[39;00m\u001b[38;5;124munsafe\u001b[39m\u001b[38;5;130;01m\\\"\u001b[39;00m\u001b[38;5;124m` explicitly to silence this warning, or \u001b[39m\u001b[38;5;124m\"\u001b[39m\n\u001b[1;32m   (...)\u001b[0m\n\u001b[0;32m    121\u001b[0m         stacklevel\u001b[38;5;241m=\u001b[39m\u001b[38;5;241m2\u001b[39m\n\u001b[0;32m    122\u001b[0m     )\n",
      "\u001b[1;31mValueError\u001b[0m: The truth value of an array with more than one element is ambiguous. Use a.any() or a.all()"
     ]
    }
   ],
   "source": [
    "pipe.fit(X_train, y_train)"
   ]
  },
  {
   "cell_type": "markdown",
   "id": "f9b11323",
   "metadata": {},
   "source": [
    "# Testing model with increased noise"
   ]
  },
  {
   "cell_type": "code",
   "execution_count": 39,
   "id": "f8df5717",
   "metadata": {},
   "outputs": [],
   "source": [
    "noise_level = 40\n",
    "class1 = [make_random_signal(20, rand_freq1, 44100, noise_level)  for i in range(1, 101)]\n",
    "class2 = [make_random_signal(50, rand_freq2, 44100, noise_level)  for i in range(1, 101)]"
   ]
  },
  {
   "cell_type": "code",
   "execution_count": 40,
   "id": "352966ce",
   "metadata": {},
   "outputs": [
    {
     "data": {
      "text/plain": [
       "(0.0, 100.0)"
      ]
     },
     "execution_count": 40,
     "metadata": {},
     "output_type": "execute_result"
    },
    {
     "data": {
      "image/png": "[encoded data removed]",
      "text/plain": [
       "<Figure size 432x288 with 1 Axes>"
      ]
     },
     "metadata": {
      "needs_background": "light"
     },
     "output_type": "display_data"
    }
   ],
   "source": [
    "y = class2[1]\n",
    "x = list(range(0,44100))\n",
    "plt.plot(x, y)\n",
    "plt.xlim(0, 100)"
   ]
  },
  {
   "cell_type": "code",
   "execution_count": 41,
   "id": "ff9385f2",
   "metadata": {},
   "outputs": [
    {
     "data": {
      "text/plain": [
       "(0.0, 100.0)"
      ]
     },
     "execution_count": 41,
     "metadata": {},
     "output_type": "execute_result"
    },
    {
     "data": {
      "image/png": "[encoded data removed]",
      "text/plain": [
       "<Figure size 432x288 with 1 Axes>"
      ]
     },
     "metadata": {
      "needs_background": "light"
     },
     "output_type": "display_data"
    }
   ],
   "source": [
    "y = class1[1]\n",
    "x = list(range(0,44100))\n",
    "plt.plot(x, y)\n",
    "plt.xlim(0, 100)"
   ]
  },
  {
   "cell_type": "code",
   "execution_count": null,
   "id": "32036c6b",
   "metadata": {},
   "outputs": [],
   "source": [
    "def assess_classification_model(noise_level):\n",
    "    class1 = [make_random_signal(20, rand_freq1, 44100, noise_level)  for i in range(1, 101)]\n",
    "    class2 = [make_random_signal(50, rand_freq2, 44100, noise_level)  for i in range(1, 101)]\n",
    "    X_test = np.array(class1 + class2)\n",
    "    y_pred = pipe.predict(X_test)\n",
    "    a = [0]*100\n",
    "    b = [1]*100\n",
    "    target = a + b\n",
    "    print(\"Prediction at noise level: \" + str(noise_level))\n",
    "    print(y_pred)\n",
    "    cm = confusion_matrix(target, y_pred, labels=[0,1])\n",
    "    disp = ConfusionMatrixDisplay(confusion_matrix=cm, display_labels=[0,1])\n",
    "    disp.plot()\n",
    "    plt.show()\n",
    "    precision, recall, f1, support = precision_recall_fscore_support(target, y_pred)\n",
    "    precision = precision[1]\n",
    "    recall = recall[1]\n",
    "    f1 = f1[1]\n",
    "    support = support[1]\n",
    "    print((precision, recall, f1, support))"
   ]
  },
  {
   "cell_type": "code",
   "execution_count": 42,
   "id": "98736ae8",
   "metadata": {},
   "outputs": [
    {
     "ename": "NameError",
     "evalue": "name 'assess_classification_model' is not defined",
     "output_type": "error",
     "traceback": [
      "\u001b[1;31m---------------------------------------------------------------------------\u001b[0m",
      "\u001b[1;31mNameError\u001b[0m                                 Traceback (most recent call last)",
      "Input \u001b[1;32mIn [42]\u001b[0m, in \u001b[0;36m<cell line: 1>\u001b[1;34m()\u001b[0m\n\u001b[1;32m----> 1\u001b[0m \u001b[43massess_classification_model\u001b[49m(\u001b[38;5;241m30\u001b[39m)\n",
      "\u001b[1;31mNameError\u001b[0m: name 'assess_classification_model' is not defined"
     ]
    }
   ],
   "source": [
    "assess_classification_model(30)"
   ]
  },
  {
   "cell_type": "code",
   "execution_count": null,
   "id": "a4234eea",
   "metadata": {},
   "outputs": [],
   "source": [
    "assess_classification_model(35)"
   ]
  },
  {
   "cell_type": "code",
   "execution_count": null,
   "id": "16f9b372",
   "metadata": {},
   "outputs": [],
   "source": [
    "print(rand_freq1)\n",
    "print(rand_freq2)"
   ]
  },
  {
   "cell_type": "code",
   "execution_count": null,
   "id": "0744def3",
   "metadata": {},
   "outputs": [],
   "source": [
    "assess_classification_model(37.5)"
   ]
  },
  {
   "cell_type": "code",
   "execution_count": null,
   "id": "8087474d",
   "metadata": {},
   "outputs": [],
   "source": [
    "assess_classification_model(40)"
   ]
  },
  {
   "cell_type": "code",
   "execution_count": null,
   "id": "40807148",
   "metadata": {},
   "outputs": [],
   "source": [
    "class1 = [make_random_signal(20, rand_freq1, 44100, 35)  for i in range(1, 101)]\n",
    "class2 = [make_random_signal(50, rand_freq2, 44100, 35)  for i in range(1, 101)]"
   ]
  },
  {
   "cell_type": "code",
   "execution_count": null,
   "id": "816c80a8",
   "metadata": {},
   "outputs": [],
   "source": [
    "X_test = np.array(class1 + class2)\n",
    "y_pred = pipe.predict(X_test)"
   ]
  },
  {
   "cell_type": "code",
   "execution_count": null,
   "id": "582141a5",
   "metadata": {},
   "outputs": [],
   "source": [
    "y_pred"
   ]
  },
  {
   "cell_type": "code",
   "execution_count": null,
   "id": "4c377609",
   "metadata": {},
   "outputs": [],
   "source": [
    "cm = confusion_matrix(target, y_pred, labels=[0,1])\n",
    "disp = ConfusionMatrixDisplay(confusion_matrix=cm, display_labels=[0,1])\n",
    "disp.plot()\n",
    "plt.show()"
   ]
  },
  {
   "cell_type": "code",
   "execution_count": null,
   "id": "ba60e00e",
   "metadata": {},
   "outputs": [],
   "source": [
    "precision, recall, f1, support = precision_recall_fscore_support(target, y_pred)\n",
    "precision = precision[1]\n",
    "recall = recall[1]\n",
    "f1 = f1[1]\n",
    "support = support[1]\n",
    "(precision, recall, f1, support)"
   ]
  },
  {
   "cell_type": "code",
   "execution_count": null,
   "id": "576ced14",
   "metadata": {},
   "outputs": [],
   "source": []
  },
  {
   "cell_type": "code",
   "execution_count": null,
   "id": "57e51a16",
   "metadata": {},
   "outputs": [],
   "source": [
    "class1 = [make_random_signal(20, rand_freq1, 44100, 40)  for i in range(1, 101)]\n",
    "class2 = [make_random_signal(50, rand_freq2, 44100, 40)  for i in range(1, 101)]"
   ]
  },
  {
   "cell_type": "code",
   "execution_count": null,
   "id": "fbb7b439",
   "metadata": {},
   "outputs": [],
   "source": [
    "a = [0]*100\n",
    "b = [1]*100\n",
    "target = a + b"
   ]
  },
  {
   "cell_type": "code",
   "execution_count": null,
   "id": "c3980bd7",
   "metadata": {},
   "outputs": [],
   "source": [
    "X_test = np.array(class1 + class2)\n",
    "y_pred = pipe.predict(X_test)"
   ]
  },
  {
   "cell_type": "code",
   "execution_count": null,
   "id": "ed2cf4b9",
   "metadata": {},
   "outputs": [],
   "source": [
    "y_pred"
   ]
  },
  {
   "cell_type": "code",
   "execution_count": null,
   "id": "f5f456f2",
   "metadata": {
    "scrolled": true
   },
   "outputs": [],
   "source": [
    "#assessing model at 1.5 the noise\n",
    "import matplotlib.pyplot as plt\n",
    "from sklearn.datasets import make_classification\n",
    "from sklearn.metrics import confusion_matrix, ConfusionMatrixDisplay\n",
    "from sklearn.model_selection import train_test_split\n",
    "\n",
    "cm = confusion_matrix(target, y_pred, labels=[0,1])\n",
    "disp = ConfusionMatrixDisplay(confusion_matrix=cm, display_labels=[0,1])\n",
    "disp.plot()\n",
    "plt.show()"
   ]
  },
  {
   "cell_type": "code",
   "execution_count": null,
   "id": "74ea4335",
   "metadata": {},
   "outputs": [],
   "source": [
    "#it is good practice to perform a confusion matrix (above) and Precision/Recall for all classification models\n",
    "from sklearn.metrics import precision_recall_fscore_support\n",
    "precision, recall, f1, support = precision_recall_fscore_support(target, y_pred)\n",
    "precision = precision[1]\n",
    "recall = recall[1]\n",
    "f1 = f1[1]\n",
    "support = support[1]\n",
    "(precision, recall, f1, support)"
   ]
  },
  {
   "cell_type": "code",
   "execution_count": null,
   "id": "1ba6b986",
   "metadata": {},
   "outputs": [],
   "source": []
  },
  {
   "cell_type": "markdown",
   "id": "0f9d42b1",
   "metadata": {},
   "source": [
    "# Noise level experiment\n",
    "- Generate training data with higher noise level\n",
    "- Generate test data with same or different noise level\n",
    "- Train model with generated data\n",
    "- Evaluate model performance using sklearn metrics"
   ]
  },
  {
   "cell_type": "code",
   "execution_count": null,
   "id": "8c5e2162",
   "metadata": {},
   "outputs": [],
   "source": []
  }
 ],
 "metadata": {
  "kernelspec": {
   "display_name": "Python 3 (ipykernel)",
   "language": "python",
   "name": "python3"
  },
  "language_info": {
   "codemirror_mode": {
    "name": "ipython",
    "version": 3
   },
   "file_extension": ".py",
   "mimetype": "text/x-python",
   "name": "python",
   "nbconvert_exporter": "python",
   "pygments_lexer": "ipython3",
   "version": "3.9.12"
  }
 },
 "nbformat": 4,
 "nbformat_minor": 5
}
